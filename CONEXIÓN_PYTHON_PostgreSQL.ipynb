{
  "nbformat": 4,
  "nbformat_minor": 0,
  "metadata": {
    "colab": {
      "provenance": []
    },
    "kernelspec": {
      "name": "python3",
      "display_name": "Python 3"
    },
    "language_info": {
      "name": "python"
    }
  },
  "cells": [
    {
      "cell_type": "markdown",
      "source": [
        "# Conectar Python a PostgreSQL\n",
        "Para conectar Python con una base de datos PostgreSQL, se utiliza el módulo `psycopg2`. A continuación, se muestra cómo configurar la conexión y realizar operaciones básicas como leer datos de una tabla."
      ],
      "metadata": {
        "id": "TR0n3oReot-P"
      }
    },
    {
      "cell_type": "code",
      "execution_count": null,
      "metadata": {
        "id": "c4jJ1ND7onv7"
      },
      "outputs": [],
      "source": [
        "pip install psycopg2"
      ]
    },
    {
      "cell_type": "markdown",
      "source": [
        "Establecer la Conexión a la Base de Datos: Deberás modificar la parte del código que establece la conexión a la base de datos para que apunte a la base de datos PostgreSQL."
      ],
      "metadata": {
        "id": "EKnPVgyhoyVI"
      }
    },
    {
      "cell_type": "code",
      "source": [
        "import psycopg2\n",
        "\n",
        "# Configura la conexión\n",
        "username = \"tu_usuario\"\n",
        "password = \"tu_contraseña\"\n",
        "host = \"localhost\"  # O la dirección IP de tu servidor PostgreSQL\n",
        "port = \"5432\"  # El puerto por defecto de PostgreSQL\n",
        "database = \"tu_base_de_datos\"  # El nombre de tu base de datos\n",
        "\n",
        "# Establece la conexión\n",
        "connection = psycopg2.connect(\n",
        "    dbname=database,\n",
        "    user=username,\n",
        "    password=password,\n",
        "    host=host,\n",
        "    port=port\n",
        ")\n",
        "\n",
        "# Realiza consultas y operaciones en la base de datos\n",
        "cursor = connection.cursor()\n",
        "cursor.execute(\"SELECT * FROM tu_tabla\")\n",
        "for row in cursor:\n",
        "    print(row)\n",
        "\n",
        "# Cierra la conexión\n",
        "cursor.close()\n",
        "connection.close()"
      ],
      "metadata": {
        "id": "Y8CRmDLQo1ae"
      },
      "execution_count": null,
      "outputs": []
    }
  ]
}